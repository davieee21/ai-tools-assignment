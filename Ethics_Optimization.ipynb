{
 "cells": [
  {
   "cell_type": "markdown",
   "id": "423b05fe",
   "metadata": {},
   "source": [
    "# 📘 Part 1: Theoretical Understanding\n",
    "\n",
    "## 1. Short Answer Questions\n",
    "\n",
    "### Q1: Explain the primary differences between TensorFlow and PyTorch. When would you choose one over the other?\n",
    "\n",
    "**Answer:**  \n",
    "TensorFlow and PyTorch are two of the most widely used deep learning frameworks today. While they serve similar purposes, they differ significantly in how they operate and are applied.\n",
    "\n",
    "- **TensorFlow** (developed by Google) uses a **static computation graph**, meaning the model architecture is defined before execution. This approach offers performance benefits, especially in production environments. TensorFlow integrates well with:\n",
    "  - **TensorBoard** (for visualization)\n",
    "  - **TensorFlow Lite** (for mobile deployment)\n",
    "  - **TensorFlow Serving** (for model deployment)\n",
    "\n",
    "- **PyTorch** (developed by Facebook AI Research) uses a **dynamic computation graph**, which is built on-the-fly during execution. This makes PyTorch highly flexible and intuitive, particularly useful in research where models change frequently.\n",
    "\n",
    "**When to choose:**\n",
    "- ✅ Use **TensorFlow** for production environments, robust deployment, or mobile/edge devices.\n",
    "- ✅ Use **PyTorch** for research, experimentation, and ease of debugging with Pythonic code.\n",
    "\n",
    "**Summary:**  \n",
    "PyTorch is often preferred in **academia and research**, while TensorFlow is widely adopted in **industry and production** settings.\n",
    "\n",
    "---\n",
    "\n",
    "### Q2: Describe two use cases for Jupyter Notebooks in AI development.\n",
    "\n",
    "**Answer:**  \n",
    "Jupyter Notebooks are essential in AI and data science as they combine code, output, visualization, and documentation in a single document.\n",
    "\n",
    "1. **Exploratory Data Analysis (EDA):**  \n",
    "   Before training models, Jupyter allows step-by-step exploration of datasets using Python and visualization libraries like Matplotlib and Seaborn. This helps detect patterns, outliers, or class distributions, and allows documentation using markdown cells.\n",
    "\n",
    "2. **Rapid Prototyping and Experimentation:**  \n",
    "   Developers can test small code blocks incrementally, adjust hyperparameters, evaluate models, and visualize progress without leaving the notebook. This makes it ideal for quick iteration and collaborative sharing.\n",
    "\n",
    "---\n",
    "\n",
    "### Q3: How does spaCy enhance NLP tasks compared to basic Python string operations?\n",
    "\n",
    "**Answer:**  \n",
    "spaCy is a modern NLP library optimized for industrial use. Unlike basic string methods like `.split()`, `.find()`, or `.replace()`, spaCy brings linguistic intelligence to text processing.\n",
    "\n",
    "#### Key Enhancements:\n",
    "- **Context-Aware Tokenization:**  \n",
    "  spaCy handles punctuation, contractions, and special entities correctly (e.g., treating \"U.S.A.\" as one token).\n",
    "\n",
    "- **Part-of-Speech Tagging and Dependency Parsing:**  \n",
    "  spaCy identifies grammatical roles (noun, verb, adjective, etc.) and syntactic relationships between words.\n",
    "\n",
    "- **Named Entity Recognition (NER):**  \n",
    "  spaCy can extract key entities from text such as:\n",
    "  - “Apple” → *Organization*\n",
    "  - “Beats” → *Organization*\n",
    "  - “2014” → *Date*\n",
    "  - “$3 billion” → *Money*\n",
    "\n",
    "These features make spaCy ideal for chatbots, document classification, and information extraction — far beyond what simple string manipulation can achieve.\n",
    "\n",
    "---\n",
    "\n",
    "## 2. Comparative Analysis: Scikit-learn vs. TensorFlow\n",
    "\n",
    "| **Aspect**               | **Scikit-learn**                                                                                       | **TensorFlow**                                                                                   |\n",
    "|--------------------------|--------------------------------------------------------------------------------------------------------|--------------------------------------------------------------------------------------------------|\n",
    "| **Target Applications**  | Best for classical ML tasks (e.g., regression, decision trees, SVM, clustering).                      | Best for deep learning tasks (e.g., CNNs, RNNs, large-scale neural networks).                   |\n",
    "| **Ease of Use**          | Very beginner-friendly with a consistent API (`.fit()`, `.predict()`, `.score()`).                    | Slightly complex; uses computational graphs. TensorFlow 2.x is more user-friendly with Keras.   |\n",
    "| **Community Support**    | Mature and strong community; widely used in academia and traditional ML projects.                     | Very active community in deep learning, backed by Google with rich documentation and tools.     |\n",
    "\n",
    "**Summary:**  \n",
    "- Use **Scikit-learn** for traditional ML and when starting out.  \n",
    "- Use **TensorFlow** for developing deep learning models, large-scale training, and production deployments.\n"
   ]
  },
  {
   "cell_type": "markdown",
   "id": "c616c843",
   "metadata": {},
   "source": [
    "\n",
    "# 🧠 Part 3: Ethics & Optimization\n",
    "\n",
    "This section explores ethical considerations in AI models and demonstrates how to troubleshoot a faulty TensorFlow model.\n"
   ]
  },
  {
   "cell_type": "markdown",
   "id": "2c6364e9",
   "metadata": {},
   "source": [
    "\n",
    "## ✅ 1. Ethical Considerations\n",
    "\n",
    "### ⚠️ A. Potential Biases in Your Models\n",
    "\n",
    "#### a) **MNIST (Digit Classifier)**\n",
    "\n",
    "* **Bias Type**: Model bias due to **overrepresentation of certain digits** or **imbalanced data augmentation**.\n",
    "* **Impact**: The model may perform better on digits like “1” and worse on ambiguous ones like “5” or “9”.\n",
    "* **Example**: A digit drawn sloppily or from a different cultural handwriting style (e.g., Arabic, left-handed) may be misclassified.\n",
    "\n",
    "#### b) **Amazon Reviews (NER + Sentiment)**\n",
    "\n",
    "* **Bias Type**: **Lexical bias** — based on limited positive/negative word lists.\n",
    "* **Impact**: Fails to detect sarcasm, cultural nuance, or contextual meaning.\n",
    "* **Example**: “This phone is *not bad at all*” would score as **negative**, though it’s actually **positive**.\n"
   ]
  },
  {
   "cell_type": "code",
   "execution_count": null,
   "id": "e393f39c",
   "metadata": {},
   "outputs": [],
   "source": []
  },
  {
   "cell_type": "markdown",
   "id": "9af5ee6d",
   "metadata": {},
   "source": [
    "\n",
    "### ✅ B. Mitigation Using AI Fairness Tools\n",
    "\n",
    "#### ✅ **TensorFlow Fairness Indicators**\n",
    "\n",
    "* A tool to evaluate **fairness metrics** across different slices of data (e.g., age, gender, etc.)\n",
    "* You could apply it in MNIST if metadata (e.g., country, school, or writing hand) were available.\n"
   ]
  },
  {
   "cell_type": "code",
   "execution_count": 3,
   "id": "e049c4e3",
   "metadata": {},
   "outputs": [],
   "source": [
    "\n",
    "# Not required for this task, but here's an example usage idea:\n",
    "# Evaluate performance disparity on digits drawn by left-handed vs. right-handed individuals (if metadata available)\n"
   ]
  },
  {
   "cell_type": "markdown",
   "id": "ce916b7e",
   "metadata": {},
   "source": [
    "\n",
    "#### ✅ **spaCy Rule-Based Mitigation**\n",
    "\n",
    "* You can improve fairness and reduce sentiment misclassification by:\n",
    "\n",
    "  * Expanding the sentiment word lists based on **domain-specific** vocabulary.\n",
    "  * Using **dependency parsing** to detect negations.\n",
    "  * Integrating with libraries like **TextBlob** or **VADER** for better handling of nuanced sentiment.\n"
   ]
  },
  {
   "cell_type": "code",
   "execution_count": 4,
   "id": "4024157a",
   "metadata": {},
   "outputs": [
    {
     "ename": "NameError",
     "evalue": "name 'review' is not defined",
     "output_type": "error",
     "traceback": [
      "\u001b[1;31m---------------------------------------------------------------------------\u001b[0m",
      "\u001b[1;31mNameError\u001b[0m                                 Traceback (most recent call last)",
      "Cell \u001b[1;32mIn[4], line 2\u001b[0m\n\u001b[0;32m      1\u001b[0m \u001b[38;5;66;03m# Example tweak to reduce bias in spaCy rule-based sentiment:\u001b[39;00m\n\u001b[1;32m----> 2\u001b[0m \u001b[38;5;28;01mif\u001b[39;00m \u001b[38;5;124m\"\u001b[39m\u001b[38;5;124mnot good\u001b[39m\u001b[38;5;124m\"\u001b[39m \u001b[38;5;129;01min\u001b[39;00m \u001b[43mreview\u001b[49m\u001b[38;5;241m.\u001b[39mlower():\n\u001b[0;32m      3\u001b[0m     neg \u001b[38;5;241m+\u001b[39m\u001b[38;5;241m=\u001b[39m \u001b[38;5;241m1\u001b[39m\n\u001b[0;32m      4\u001b[0m     pos \u001b[38;5;241m-\u001b[39m\u001b[38;5;241m=\u001b[39m \u001b[38;5;241m1\u001b[39m  \u001b[38;5;66;03m# override naive match\u001b[39;00m\n",
      "\u001b[1;31mNameError\u001b[0m: name 'review' is not defined"
     ]
    }
   ],
   "source": [
    "\n",
    "# Example tweak to reduce bias in spaCy rule-based sentiment:\n",
    "if \"not good\" in review.lower():\n",
    "    neg += 1\n",
    "    pos -= 1  # override naive match\n"
   ]
  },
  {
   "cell_type": "markdown",
   "id": "9ed3d612",
   "metadata": {},
   "source": [
    "\n",
    "## ✅ 2. Troubleshooting Challenge\n",
    "\n",
    "Let's simulate a buggy TensorFlow script and show how to fix it.\n",
    "\n",
    "### ❌ Buggy Code Snippet (Hypothetical)\n"
   ]
  },
  {
   "cell_type": "code",
   "execution_count": null,
   "id": "6cce92d0",
   "metadata": {},
   "outputs": [],
   "source": [
    "\n",
    "model = tf.keras.models.Sequential()\n",
    "model.add(tf.keras.layers.Dense(128, input_shape=(28, 28)))\n",
    "model.add(tf.keras.layers.Dense(10, activation='softmax'))\n",
    "\n",
    "model.compile(optimizer='adam', loss='categorical_crossentropy', metrics=['accuracy'])\n",
    "model.fit(x_train, y_train, epochs=5)\n"
   ]
  },
  {
   "cell_type": "markdown",
   "id": "65dd7b9b",
   "metadata": {},
   "source": [
    "\n",
    "### ❗ What’s Wrong?\n",
    "\n",
    "| Issue                    | Description                                                                |\n",
    "| ------------------------ | -------------------------------------------------------------------------- |\n",
    "| 🟥 Input Shape           | `Dense` expects a 1D input, not a 2D image `(28,28)`                       |\n",
    "| 🟥 Loss Function         | Using `categorical_crossentropy` but labels likely are not one-hot encoded |\n",
    "| 🟥 Missing Flatten Layer | Need to flatten 2D input before Dense                                      |\n"
   ]
  },
  {
   "cell_type": "markdown",
   "id": "44420093",
   "metadata": {},
   "source": [
    "\n",
    "### ✅ Fixed Version\n"
   ]
  },
  {
   "cell_type": "code",
   "execution_count": null,
   "id": "46ebf337",
   "metadata": {},
   "outputs": [],
   "source": [
    "\n",
    "model = tf.keras.models.Sequential([\n",
    "    tf.keras.layers.Flatten(input_shape=(28, 28)),  # Fix input shape\n",
    "    tf.keras.layers.Dense(128, activation='relu'),\n",
    "    tf.keras.layers.Dense(10, activation='softmax')\n",
    "])\n",
    "\n",
    "# If using sparse labels (integers), use sparse_categorical_crossentropy\n",
    "model.compile(optimizer='adam', loss='sparse_categorical_crossentropy', metrics=['accuracy'])\n",
    "\n",
    "model.fit(x_train, y_train, epochs=5)\n"
   ]
  }
 ],
 "metadata": {
  "kernelspec": {
   "display_name": "venv310",
   "language": "python",
   "name": "python3"
  },
  "language_info": {
   "codemirror_mode": {
    "name": "ipython",
    "version": 3
   },
   "file_extension": ".py",
   "mimetype": "text/x-python",
   "name": "python",
   "nbconvert_exporter": "python",
   "pygments_lexer": "ipython3",
   "version": "3.10.10"
  }
 },
 "nbformat": 4,
 "nbformat_minor": 5
}
