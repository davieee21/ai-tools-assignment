{
 "cells": [
  {
   "cell_type": "markdown",
   "id": "456c35f6",
   "metadata": {},
   "source": [
    "# 📝 Task 3: Named Entity Recognition and Rule-Based Sentiment Analysis using spaCy\n",
    "\n",
    "This task uses `spaCy` to:\n",
    "- Extract named entities (NER) from user reviews\n",
    "- Perform simple rule-based sentiment analysis\n"
   ]
  },
  {
   "cell_type": "code",
   "execution_count": 1,
   "id": "102c4183",
   "metadata": {},
   "outputs": [],
   "source": [
    "import spacy\n",
    "\n",
    "# Load English spaCy model\n",
    "nlp = spacy.load(\"en_core_web_sm\")\n"
   ]
  },
  {
   "cell_type": "markdown",
   "id": "931c3238",
   "metadata": {},
   "source": [
    "### 💬 Example Review\n",
    "\n",
    "We'll use a sample user review for NER and sentiment analysis.\n"
   ]
  },
  {
   "cell_type": "code",
   "execution_count": 2,
   "id": "c6cd4dda",
   "metadata": {},
   "outputs": [],
   "source": [
    "review = \"I bought the Sony WH-1000XM5 headphones and they are amazing. Beats used to be my go-to, but Sony is better.\"\n",
    "\n",
    "# Optionally test multiple reviews:\n",
    "# reviews = [\n",
    "#     \"The Apple MacBook Pro is excellent.\",\n",
    "#     \"I hated the battery life of the HP laptop. Terrible performance.\",\n",
    "#     \"Canon cameras are good, but Nikon is better.\"\n",
    "# ]\n"
   ]
  },
  {
   "cell_type": "markdown",
   "id": "00254ef3",
   "metadata": {},
   "source": [
    "### 🧠 Named Entity Recognition (NER)\n",
    "\n",
    "Using spaCy to extract product names, brands, organizations, and other named entities.\n"
   ]
  },
  {
   "cell_type": "code",
   "execution_count": 3,
   "id": "3e2d0b95",
   "metadata": {},
   "outputs": [
    {
     "name": "stdout",
     "output_type": "stream",
     "text": [
      "🔍 Named Entities:\n",
      "\n",
      "• Sony (ORG)\n",
      "• Sony (ORG)\n"
     ]
    }
   ],
   "source": [
    "doc = nlp(review)\n",
    "print(\"🔍 Named Entities:\\n\")\n",
    "for ent in doc.ents:\n",
    "    print(f\"• {ent.text} ({ent.label_})\")\n"
   ]
  },
  {
   "cell_type": "markdown",
   "id": "cfbbce1a",
   "metadata": {},
   "source": [
    "### ❤️ Rule-Based Sentiment Analysis\n",
    "\n",
    "A basic approach using lists of positive and negative keywords.\n"
   ]
  },
  {
   "cell_type": "code",
   "execution_count": 4,
   "id": "38551217",
   "metadata": {},
   "outputs": [
    {
     "name": "stdout",
     "output_type": "stream",
     "text": [
      "\n",
      "🗣️ Sentiment: Positive\n"
     ]
    }
   ],
   "source": [
    "positive_words = [\"amazing\", \"great\", \"good\", \"excellent\", \"better\"]\n",
    "negative_words = [\"bad\", \"poor\", \"terrible\", \"worse\", \"disappointing\"]\n",
    "\n",
    "# Convert to lowercase for case-insensitive comparison\n",
    "review_lower = review.lower()\n",
    "\n",
    "# Count word matches\n",
    "pos_score = sum(review_lower.count(word) for word in positive_words)\n",
    "neg_score = sum(review_lower.count(word) for word in negative_words)\n",
    "\n",
    "# Determine sentiment\n",
    "if pos_score > neg_score:\n",
    "    sentiment = \"Positive\"\n",
    "elif neg_score > pos_score:\n",
    "    sentiment = \"Negative\"\n",
    "else:\n",
    "    sentiment = \"Neutral\"\n",
    "\n",
    "print(\"\\n🗣️ Sentiment:\", sentiment)\n"
   ]
  },
  {
   "cell_type": "markdown",
   "id": "5447f956",
   "metadata": {},
   "source": [
    "### 🛠️ Optional Enhancement\n",
    "\n",
    "To improve accuracy:\n",
    "- Handle negations (e.g. \"not good\")\n",
    "- Use `TextBlob` or `VADER` for better scoring\n",
    "- Train a real sentiment classifier (not required here)\n"
   ]
  }
 ],
 "metadata": {
  "kernelspec": {
   "display_name": "venv310",
   "language": "python",
   "name": "python3"
  },
  "language_info": {
   "codemirror_mode": {
    "name": "ipython",
    "version": 3
   },
   "file_extension": ".py",
   "mimetype": "text/x-python",
   "name": "python",
   "nbconvert_exporter": "python",
   "pygments_lexer": "ipython3",
   "version": "3.10.10"
  }
 },
 "nbformat": 4,
 "nbformat_minor": 5
}
